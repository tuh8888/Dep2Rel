{
 "cells": [
  {
   "cell_type": "markdown",
   "metadata": {},
   "source": [
    "# Extracting relations from [CRAFT 3.1](https://github.com/UCDenver-ccp/CRAFT)\n",
    "\n",
    "This notebook demonstrates how to extract relations using [Dep2Rel](https://github.com/tuh8888/Dep2Rel/) from the [CRAFT 3.1](https://github.com/UCDenver-ccp/CRAFT) dataset."
   ]
  },
  {
   "cell_type": "markdown",
   "metadata": {},
   "source": [
    "## The data\n",
    "\n",
    "[CRAFT 3.1](https://github.com/UCDenver-ccp/CRAFT) contains both semantic and structural annotations. "
   ]
  },
  {
   "cell_type": "markdown",
   "metadata": {},
   "source": [
    "### Semantic annotations\n",
    "Semantic annotations (concept annotations) are used in named entity recognition (NER) tasks. In CRAFT, these were made using 10 of the Open Biomedical Ontologies which serve as formal dictionaries mapping persistent URIs to definitions and some relationships including subsumption relations so that they form a hierarchy. The URIs serve as the tags for these annotations. \n",
    "\n",
    "The format of the CRAFT semantic annotations is Knowtator XML, but we will convert these to Knowtator 2 XML."
   ]
  },
  {
   "cell_type": "markdown",
   "metadata": {},
   "source": [
    "### Structural annotations\n",
    "Structural annotations consist of part-of-speech (POS) tags, treebank (dependency parses), and span/section tagging. Here, we will mostly be taking advantage of the dependency parses which define syntactic relations between tokens within a sentence. \n",
    "\n",
    "The format of the CRAFT syntactic annotations is PennTreebank, but we will convert these to ConllU."
   ]
  },
  {
   "cell_type": "code",
   "execution_count": 4,
   "metadata": {},
   "outputs": [
    {
     "name": "stdout",
     "output_type": "stream",
     "text": [
      "fatal: destination path 'CRAFT' already exists and is not an empty directory.\n",
      "/bin/bash: line 2: boot: command not found\n",
      "/bin/bash: line 3: boot: command not found\n",
      "\n"
     ]
    }
   ],
   "source": [
    "%%bash\n",
    "cd /media/tuh8888/Seagate\\ Expansion\\ Drive/data/craft-versions\n",
    "git clone https://github.com/UCDenver-ccp/CRAFT.git\n",
    "boot all-concepts -x convert -k\n",
    "boot treebank convert -u"
   ]
  },
  {
   "cell_type": "markdown",
   "metadata": {},
   "source": [
    "## Relation extraction\n",
    "\n",
    "Now that we have some data in the correct formats, we can read it in."
   ]
  },
  {
   "cell_type": "code",
   "execution_count": 1,
   "metadata": {},
   "outputs": [
    {
     "data": {
      "text/plain": [
       "[./CRAFT 3.1 - Relation Extraction.ipynb, ./util.clj, ./scripts, ./edu, ./BioCreative 2017 - Relation Extraction.ipynb, ./.ipynb_checkpoints, ./README.md]"
      ]
     },
     "execution_count": 1,
     "metadata": {},
     "output_type": "execute_result"
    }
   ],
   "source": [
    "(require '[clojure.java.io :as io])\n",
    "(.listFiles(io/file \".\"))"
   ]
  },
  {
   "cell_type": "code",
   "execution_count": 4,
   "metadata": {},
   "outputs": [
    {
     "ename": "java.io.FileNotFoundException",
     "evalue": " Could not locate edu/ucdenver/ccp/nlp/relation_extraction__init.class or edu/ucdenver/ccp/nlp/relation_extraction.clj on classpath. Please check that namespaces with dashes use underscores in the Clojure file name.",
     "output_type": "error",
     "traceback": [
      "\u001b[1;31mjava.io.FileNotFoundException: Could not locate edu/ucdenver/ccp/nlp/relation_extraction__init.class or edu/ucdenver/ccp/nlp/relation_extraction.clj on classpath. Please check that namespaces with dashes use underscores in the Clojure file name.\u001b[0;0m",
      "\u001b[1;31m\tat clojure.lang.RT.load(RT.java:463)\u001b[0;0m",
      "\u001b[1;31m\tat clojure.lang.RT.load(RT.java:426)\u001b[0;0m",
      "\u001b[1;31m\tat clojure.core$load$fn__6548.invoke(core.clj:6046)\u001b[0;0m",
      "\u001b[1;31m\tat clojure.core$load.invokeStatic(core.clj:6045)\u001b[0;0m",
      "\u001b[1;31m\tat clojure.core$load.doInvoke(core.clj:6029)\u001b[0;0m",
      "\u001b[1;31m\tat clojure.lang.RestFn.invoke(RestFn.java:408)\u001b[0;0m",
      "\u001b[1;31m\tat beaker_clojure_shell_6318cd52_fd7d_4f92_a937_946e1afa8afb$eval175.invokeStatic(Unknown Source)\u001b[0;0m",
      "\u001b[1;31m\tat beaker_clojure_shell_6318cd52_fd7d_4f92_a937_946e1afa8afb$eval175.invoke(Unknown Source)\u001b[0;0m",
      "\u001b[1;31m\tat clojure.lang.Compiler.eval(Compiler.java:7062)\u001b[0;0m",
      "\u001b[1;31m\tat clojure.lang.Compiler.load(Compiler.java:7514)\u001b[0;0m",
      "\u001b[1;31m\tat clojure.lang.Compiler.load(Compiler.java:7461)\u001b[0;0m",
      "\u001b[1;31m\tat clojure.core$load_reader.invokeStatic(core.clj:4053)\u001b[0;0m",
      "\u001b[1;31m\tat clojure.core$load_string.invokeStatic(core.clj:4055)\u001b[0;0m",
      "\u001b[1;31m\tat clojure.core$load_string.invoke(core.clj:4055)\u001b[0;0m",
      "\u001b[1;31m\tat beaker_clojure_shell_6318cd52_fd7d_4f92_a937_946e1afa8afb$run_str_6318cd52_fd7d_4f92_a937_946e1afa8afb.invokeStatic(Unknown Source)\u001b[0;0m",
      "\u001b[1;31m\tat beaker_clojure_shell_6318cd52_fd7d_4f92_a937_946e1afa8afb$run_str_6318cd52_fd7d_4f92_a937_946e1afa8afb.invoke(Unknown Source)\u001b[0;0m",
      "\u001b[1;31m\tat clojure.lang.Var.invoke(Var.java:381)\u001b[0;0m",
      "\u001b[0;31m\tat com.twosigma.beakerx.clojure.evaluator.ClojureEvaluator.runCode(ClojureEvaluator.java:171)\u001b[0;0m",
      "\u001b[0;31m\tat com.twosigma.beakerx.clojure.evaluator.ClojureCodeRunner.call(ClojureCodeRunner.java:47)\u001b[0;0m",
      "\u001b[0;31m\tat com.twosigma.beakerx.clojure.evaluator.ClojureCodeRunner.call(ClojureCodeRunner.java:28)\u001b[0;0m",
      "\u001b[0;31m\tat java.base/java.util.concurrent.FutureTask.run(FutureTask.java:264)\u001b[0;0m",
      "\u001b[0;31m\tat java.base/java.lang.Thread.run(Thread.java:834)\u001b[0;0m"
     ]
    }
   ],
   "source": [
    "(load \"edu/ucdenver/ccp/nlp/relation_extraction\")"
   ]
  },
  {
   "cell_type": "code",
   "execution_count": 2,
   "metadata": {},
   "outputs": [
    {
     "ename": "java.io.FileNotFoundException",
     "evalue": " Could not locate edu/ucdenver/ccp/nlp/relation_extraction__init.class or edu/ucdenver/ccp/nlp/relation_extraction.clj on classpath. Please check that namespaces with dashes use underscores in the Clojure file name.",
     "output_type": "error",
     "traceback": [
      "\u001b[1;31mjava.io.FileNotFoundException: Could not locate edu/ucdenver/ccp/nlp/relation_extraction__init.class or edu/ucdenver/ccp/nlp/relation_extraction.clj on classpath. Please check that namespaces with dashes use underscores in the Clojure file name.\u001b[0;0m",
      "\u001b[1;31m\tat clojure.lang.RT.load(RT.java:463)\u001b[0;0m",
      "\u001b[1;31m\tat clojure.lang.RT.load(RT.java:426)\u001b[0;0m",
      "\u001b[1;31m\tat clojure.core$load$fn__6548.invoke(core.clj:6046)\u001b[0;0m",
      "\u001b[1;31m\tat clojure.core$load.invokeStatic(core.clj:6045)\u001b[0;0m",
      "\u001b[1;31m\tat clojure.core$load.doInvoke(core.clj:6029)\u001b[0;0m",
      "\u001b[1;31m\tat clojure.lang.RestFn.invoke(RestFn.java:408)\u001b[0;0m",
      "\u001b[1;31m\tat clojure.core$load_one.invokeStatic(core.clj:5848)\u001b[0;0m",
      "\u001b[1;31m\tat clojure.core$load_one.invoke(core.clj:5843)\u001b[0;0m",
      "\u001b[1;31m\tat clojure.core$load_lib$fn__6493.invoke(core.clj:5888)\u001b[0;0m",
      "\u001b[1;31m\tat clojure.core$load_lib.invokeStatic(core.clj:5887)\u001b[0;0m",
      "\u001b[1;31m\tat clojure.core$load_lib.doInvoke(core.clj:5868)\u001b[0;0m",
      "\u001b[1;31m\tat clojure.lang.RestFn.applyTo(RestFn.java:142)\u001b[0;0m",
      "\u001b[1;31m\tat clojure.core$apply.invokeStatic(core.clj:659)\u001b[0;0m",
      "\u001b[1;31m\tat clojure.core$load_libs.invokeStatic(core.clj:5925)\u001b[0;0m",
      "\u001b[1;31m\tat clojure.core$load_libs.doInvoke(core.clj:5909)\u001b[0;0m",
      "\u001b[1;31m\tat clojure.lang.RestFn.applyTo(RestFn.java:137)\u001b[0;0m",
      "\u001b[1;31m\tat clojure.core$apply.invokeStatic(core.clj:659)\u001b[0;0m",
      "\u001b[1;31m\tat clojure.core$require.invokeStatic(core.clj:5947)\u001b[0;0m",
      "\u001b[1;31m\tat clojure.core$require.doInvoke(core.clj:5947)\u001b[0;0m",
      "\u001b[1;31m\tat clojure.lang.RestFn.invoke(RestFn.java:703)\u001b[0;0m",
      "\u001b[1;31m\tat scripts.relation_extraction_script$eval169$loading__6434__auto____170.invoke(Unknown Source)\u001b[0;0m",
      "\u001b[1;31m\tat scripts.relation_extraction_script$eval169.invokeStatic(Unknown Source)\u001b[0;0m",
      "\u001b[1;31m\tat scripts.relation_extraction_script$eval169.invoke(Unknown Source)\u001b[0;0m",
      "\u001b[1;31m\tat clojure.lang.Compiler.eval(Compiler.java:7062)\u001b[0;0m",
      "\u001b[1;31m\tat clojure.lang.Compiler.eval(Compiler.java:7051)\u001b[0;0m",
      "\u001b[1;31m\tat clojure.lang.Compiler.load(Compiler.java:7514)\u001b[0;0m",
      "\u001b[1;31m\tat clojure.lang.Compiler.load(Compiler.java:7461)\u001b[0;0m",
      "\u001b[1;31m\tat clojure.core$load_reader.invokeStatic(core.clj:4053)\u001b[0;0m",
      "\u001b[1;31m\tat clojure.core$load_string.invokeStatic(core.clj:4055)\u001b[0;0m",
      "\u001b[1;31m\tat clojure.core$load_string.invoke(core.clj:4055)\u001b[0;0m",
      "\u001b[1;31m\tat beaker_clojure_shell_6318cd52_fd7d_4f92_a937_946e1afa8afb$run_str_6318cd52_fd7d_4f92_a937_946e1afa8afb.invokeStatic(Unknown Source)\u001b[0;0m",
      "\u001b[1;31m\tat beaker_clojure_shell_6318cd52_fd7d_4f92_a937_946e1afa8afb$run_str_6318cd52_fd7d_4f92_a937_946e1afa8afb.invoke(Unknown Source)\u001b[0;0m",
      "\u001b[1;31m\tat clojure.lang.Var.invoke(Var.java:381)\u001b[0;0m",
      "\u001b[0;31m\tat com.twosigma.beakerx.clojure.evaluator.ClojureEvaluator.runCode(ClojureEvaluator.java:171)\u001b[0;0m",
      "\u001b[0;31m\tat com.twosigma.beakerx.clojure.evaluator.ClojureCodeRunner.call(ClojureCodeRunner.java:47)\u001b[0;0m",
      "\u001b[0;31m\tat com.twosigma.beakerx.clojure.evaluator.ClojureCodeRunner.call(ClojureCodeRunner.java:28)\u001b[0;0m",
      "\u001b[0;31m\tat java.base/java.util.concurrent.FutureTask.run(FutureTask.java:264)\u001b[0;0m",
      "\u001b[0;31m\tat java.base/java.lang.Thread.run(Thread.java:834)\u001b[0;0m"
     ]
    }
   ],
   "source": [
    "(ns scripts.relation-extraction-script\n",
    "  (:require [edu.ucdenver.ccp.nlp.relation-extraction :refer :all]\n",
    "            [clojure.java.io :as io]\n",
    "            [taoensso.timbre :as t]\n",
    "            [edu.ucdenver.ccp.nlp.readers :as rdr]\n",
    "            [edu.ucdenver.ccp.clustering :refer [single-pass-cluster]]\n",
    "            [edu.ucdenver.ccp.nlp.evaluation :as evaluation]\n",
    "            [edu.ucdenver.ccp.knowtator-clj :as k]\n",
    "            [util :refer [cosine-sim]]\n",
    "            [clojure.set :as set1]))"
   ]
  },
  {
   "cell_type": "code",
   "execution_count": null,
   "metadata": {},
   "outputs": [],
   "source": []
  }
 ],
 "metadata": {
  "kernelspec": {
   "display_name": "Clojure",
   "language": "clojure",
   "name": "clojure"
  },
  "language_info": {
   "codemirror_mode": "Clojure",
   "file_extension": ".clj",
   "mimetype": "text/x-clojure",
   "name": "Clojure",
   "nbconverter_exporter": "",
   "version": "1.9.0"
  },
  "toc": {
   "base_numbering": 1,
   "nav_menu": {},
   "number_sections": false,
   "sideBar": false,
   "skip_h1_title": false,
   "title_cell": "Table of Contents",
   "title_sidebar": "Contents",
   "toc_cell": false,
   "toc_position": {},
   "toc_section_display": false,
   "toc_window_display": false
  }
 },
 "nbformat": 4,
 "nbformat_minor": 2
}
