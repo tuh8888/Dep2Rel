{
 "cells": [
  {
   "cell_type": "code",
   "execution_count": 6,
   "metadata": {},
   "outputs": [
    {
     "data": {
      "text/plain": [
       "#'beaker_clojure_shell_8658733a-e891-4471-b1a5-338b8e4cc6a6/word2vec-db"
      ]
     },
     "execution_count": 6,
     "metadata": {},
     "output_type": "execute_result"
    }
   ],
   "source": [
    "(def home-dir\n",
    "  (io/file \"/\" \"media\" \"tuh8888\" \"Seagate Expansion Drive\" \"data\"))\n",
    "\n",
    "(def biocreative-dir\n",
    "  (io/file home-dir \"BioCreative\" \"BCVI-2017\" \"ChemProt_Corpus\"))\n",
    "\n",
    "(def training-dir\n",
    "  (io/file biocreative-dir \"chemprot_training\"))\n",
    "(def word-vector-dir\n",
    "  (io/file home-dir \"WordVectors\"))\n",
    "\n",
    "(def word2vec-db\n",
    "  (.getAbsolutePath\n",
    "    (io/file word-vector-dir \"bio-word-vectors-clj.vec\")))"
   ]
  },
  {
   "cell_type": "code",
   "execution_count": 7,
   "metadata": {},
   "outputs": [
    {
     "data": {
      "text/plain": [
       "#'beaker_clojure_shell_8658733a-e891-4471-b1a5-338b8e4cc6a6/abstracts"
      ]
     },
     "execution_count": 7,
     "metadata": {},
     "output_type": "execute_result"
    }
   ],
   "source": [
    "(def abstracts-f (io/file training-dir \"chemprot_training_abstracts.tsv\"))\n",
    "(def abstracts (rdr/biocreative-read-abstracts abstracts-f))"
   ]
  },
  {
   "cell_type": "code",
   "execution_count": 8,
   "metadata": {},
   "outputs": [
    {
     "data": {
      "text/plain": [
       "#'beaker_clojure_shell_8658733a-e891-4471-b1a5-338b8e4cc6a6/entities"
      ]
     },
     "execution_count": 8,
     "metadata": {},
     "output_type": "execute_result"
    }
   ],
   "source": [
    "(def entities-f (io/file training-dir \"chemprot_training_entities.tsv\"))\n",
    "(def entities (rdr/biocreative-read-entities entities-f abstracts))"
   ]
  },
  {
   "cell_type": "code",
   "execution_count": 13,
   "metadata": {},
   "outputs": [
    {
     "data": {
      "application/vnd.jupyter.widget-view+json": {
       "model_id": "026d3897-5c7c-4ea7-be2e-07adbe69512f",
       "version_major": 2,
       "version_minor": 0
      },
      "method": "display_data"
     },
     "metadata": {},
     "output_type": "display_data"
    }
   ],
   "source": [
    "(def entities-f (io/file training-dir \"chemprot_training_entities.tsv\"))\n",
    "(def entities (rdr/biocreative-read-entities entities-f abstracts))\n",
    "entities"
   ]
  },
  {
   "cell_type": "code",
   "execution_count": 15,
   "metadata": {},
   "outputs": [
    {
     "data": {
      "application/vnd.jupyter.widget-view+json": {
       "model_id": "02888496-4a07-49ea-85fc-85dfc8ac3fe4",
       "version_major": 2,
       "version_minor": 0
      },
      "method": "display_data"
     },
     "metadata": {},
     "output_type": "display_data"
    }
   ],
   "source": [
    "(def relations-f (io/file training-dir \"chemprot_training_relations.tsv\"))\n",
    "(def relations (rdr/biocreative-read-relations relations-f))\n",
    "relations"
   ]
  },
  {
   "cell_type": "markdown",
   "metadata": {},
   "source": [
    "## Initialization cells"
   ]
  },
  {
   "cell_type": "code",
   "execution_count": 3,
   "metadata": {
    "init_cell": true
   },
   "outputs": [
    {
     "data": {
      "application/vnd.jupyter.widget-view+json": {
       "model_id": "",
       "version_major": 2,
       "version_minor": 0
      },
      "method": "display_data"
     },
     "metadata": {},
     "output_type": "display_data"
    },
    {
     "data": {
      "application/vnd.jupyter.widget-view+json": {
       "model_id": "",
       "version_major": 2,
       "version_minor": 0
      },
      "method": "display_data"
     },
     "metadata": {},
     "output_type": "display_data"
    },
    {
     "data": {
      "application/vnd.jupyter.widget-view+json": {
       "model_id": "",
       "version_major": 2,
       "version_minor": 0
      },
      "method": "display_data"
     },
     "metadata": {},
     "output_type": "display_data"
    },
    {
     "data": {
      "application/vnd.jupyter.widget-view+json": {
       "model_id": "",
       "version_major": 2,
       "version_minor": 0
      },
      "method": "display_data"
     },
     "metadata": {},
     "output_type": "display_data"
    },
    {
     "data": {
      "application/vnd.jupyter.widget-view+json": {
       "model_id": "",
       "version_major": 2,
       "version_minor": 0
      },
      "method": "display_data"
     },
     "metadata": {},
     "output_type": "display_data"
    },
    {
     "data": {
      "application/vnd.jupyter.widget-view+json": {
       "model_id": "",
       "version_major": 2,
       "version_minor": 0
      },
      "method": "display_data"
     },
     "metadata": {},
     "output_type": "display_data"
    },
    {
     "data": {
      "application/vnd.jupyter.widget-view+json": {
       "model_id": "",
       "version_major": 2,
       "version_minor": 0
      },
      "method": "display_data"
     },
     "metadata": {},
     "output_type": "display_data"
    },
    {
     "data": {
      "application/vnd.jupyter.widget-view+json": {
       "model_id": "",
       "version_major": 2,
       "version_minor": 0
      },
      "method": "display_data"
     },
     "metadata": {},
     "output_type": "display_data"
    },
    {
     "data": {
      "application/vnd.jupyter.widget-view+json": {
       "model_id": "",
       "version_major": 2,
       "version_minor": 0
      },
      "method": "display_data"
     },
     "metadata": {},
     "output_type": "display_data"
    },
    {
     "data": {
      "application/vnd.jupyter.widget-view+json": {
       "model_id": "",
       "version_major": 2,
       "version_minor": 0
      },
      "method": "display_data"
     },
     "metadata": {},
     "output_type": "display_data"
    }
   ],
   "source": [
    "%classpath config resolver mvnLocal\n",
    "%classpath add mvn edu.ucdenver.ccp knowtator  2.1.6\n",
    "%classpath add mvn org.clojure clojure 1.10.0\n",
    "%classpath add mvn com.google.cloud google-cloud-bigquery 1.64.0\n",
    "%classpath add mvn uncomplicate neanderthal 0.22.0\n",
    "%classpath add mvn org.slf4j slf4j-simple 1.7.26\n",
    "%classpath add mvn com.taoensso nippy 2.14.0\n",
    "%classpath add mvn com.climate claypoole 1.1.4\n",
    "%classpath add mvn com.taoensso timbre 4.10.0\n",
    "%classpath add mvn org.clojure math.combinatorics 0.1.4\n",
    "%classpath add mvn spicerack spicerack 0.1.6"
   ]
  },
  {
   "cell_type": "code",
   "execution_count": 14,
   "metadata": {
    "init_cell": true
   },
   "outputs": [
    {
     "data": {
      "text/plain": [
       "#'edu.ucdenver.ccp.nlp.evaluation/parameter-walk"
      ]
     },
     "execution_count": 14,
     "metadata": {},
     "output_type": "execute_result"
    }
   ],
   "source": [
    "(load-file \"util.clj\")\n",
    "(load-file \"edu/ucdenver/ccp/clustering.clj\")\n",
    "(load-file \"edu/ucdenver/ccp/nlp/relation_extraction.clj\")\n",
    "(load-file \"edu/ucdenver/ccp/knowtator_clj.clj\")\n",
    "(load-file \"edu/ucdenver/ccp/conll.clj\")\n",
    "(load-file \"edu/ucdenver/ccp/nlp/sentence.clj\")\n",
    "(load-file \"edu/ucdenver/ccp/nlp/word2vec.clj\")\n",
    "(load-file \"edu/ucdenver/ccp/nlp/readers.clj\")\n",
    "(load-file \"edu/ucdenver/ccp/nlp/evaluation.clj\")"
   ]
  },
  {
   "cell_type": "code",
   "execution_count": 5,
   "metadata": {
    "init_cell": true
   },
   "outputs": [
    {
     "data": {
      "text/plain": [
       "null"
      ]
     },
     "execution_count": 5,
     "metadata": {},
     "output_type": "execute_result"
    }
   ],
   "source": [
    "(require '[edu.ucdenver.ccp.nlp.relation-extraction :refer :all]\n",
    "         '[clojure.java.io :as io]\n",
    "         '[edu.ucdenver.ccp.nlp.readers :as rdr]\n",
    "         '[edu.ucdenver.ccp.clustering :refer [single-pass-cluster]]\n",
    "         '[edu.ucdenver.ccp.nlp.evaluation :as evaluation]\n",
    "         '[edu.ucdenver.ccp.knowtator-clj :as k]\n",
    "         '[util :refer [cosine-sim]]\n",
    "         '[clojure.set :as set1]\n",
    "         '[edu.ucdenver.ccp.nlp.sentence :as sentence])"
   ]
  }
 ],
 "metadata": {
  "kernelspec": {
   "display_name": "Clojure",
   "language": "clojure",
   "name": "clojure"
  },
  "language_info": {
   "codemirror_mode": "Clojure",
   "file_extension": ".clj",
   "mimetype": "text/x-clojure",
   "name": "Clojure",
   "nbconverter_exporter": "",
   "version": "1.9.0"
  },
  "toc": {
   "base_numbering": 1,
   "nav_menu": {},
   "number_sections": false,
   "sideBar": false,
   "skip_h1_title": false,
   "title_cell": "Table of Contents",
   "title_sidebar": "Contents",
   "toc_cell": false,
   "toc_position": {},
   "toc_section_display": false,
   "toc_window_display": false
  }
 },
 "nbformat": 4,
 "nbformat_minor": 2
}
