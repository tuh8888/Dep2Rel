{
 "cells": [
  {
   "cell_type": "code",
   "execution_count": 1,
   "metadata": {},
   "outputs": [
    {
     "data": {
      "application/vnd.jupyter.widget-view+json": {
       "model_id": "20934d34-e378-4711-a5c5-5190a97cc66d",
       "version_major": 2,
       "version_minor": 0
      },
      "method": "display_data"
     },
     "metadata": {},
     "output_type": "display_data"
    }
   ],
   "source": [
    "%classpath add jar /home/harrison/Documents/Dep2Rel/dep2rel.jar"
   ]
  },
  {
   "cell_type": "code",
   "execution_count": 2,
   "metadata": {},
   "outputs": [
    {
     "data": {
      "text/plain": [
       "null"
      ]
     },
     "execution_count": 2,
     "metadata": {},
     "output_type": "execute_result"
    }
   ],
   "source": [
    "(require \n",
    "    '[clojure.java.io :as io]\n",
    "    '[edu.ucdenver.ccp.nlp.readers :as rdr]\n",
    "    '[edu.ucdenver.ccp.knowtator-clj :as k]\n",
    "    '[edu.ucdenver.ccp.nlp.sentence :as sentence]\n",
    "    '[edu.ucdenver.ccp.nlp.relation-extraction :as re]\n",
    "    '[taoensso.timbre :as log]\n",
    "    '[edu.ucdenver.ccp.nlp.evaluation :as evaluation])"
   ]
  },
  {
   "cell_type": "code",
   "execution_count": 3,
   "metadata": {},
   "outputs": [
    {
     "data": {
      "text/plain": [
       "#'beaker_clojure_shell_237661ea-74c9-44e6-9566-4b0a7c053b06/word2vec-db"
      ]
     },
     "execution_count": 3,
     "metadata": {},
     "output_type": "execute_result"
    }
   ],
   "source": [
    "(def home-dir\n",
    "  (io/file \"/\" \"media\" \"tuh8888\" \"Seagate Expansion Drive\" \"data\"))\n",
    "\n",
    "(def biocreative-dir\n",
    "  (io/file home-dir \"BioCreative\" \"BCVI-2017\" \"ChemProt_Corpus\"))\n",
    "\n",
    "(def training-dir\n",
    "  (io/file biocreative-dir \"chemprot_training\"))\n",
    "\n",
    "(def word-vector-dir\n",
    "  (io/file home-dir \"WordVectors\"))\n",
    "\n",
    "(def word2vec-db\n",
    "  (.getAbsolutePath\n",
    "    (io/file word-vector-dir \"bio-word-vectors-clj.vec\")))"
   ]
  },
  {
   "cell_type": "markdown",
   "metadata": {},
   "source": [
    "Use [UCDenver CCP SyntaxNet](https://github.com/UCDenver-ccp/syntaxnet-docker) model trained on CRAFT to process sentences and get dependency parses"
   ]
  },
  {
   "cell_type": "code",
   "execution_count": null,
   "metadata": {},
   "outputs": [],
   "source": [
    "%%bash\n",
    "git clone https://github.com/UCDenver-ccp/syntaxnet-docker.git\n",
    "cd syntaxnet-docker\n",
    "sudo docker build -t ucdenverccp/syntaxnet:latest .\n",
    "sudo docker run --rm -v /media/tuh8888/Seagate Expansion Drive/data/BioCreative/BCVI-2017/ChemProt_Corpus/chemprot_training/chemprot_training_sentences:/syntaxnet-input ucdenverccp/syntaxnet:latest -m craft"
   ]
  },
  {
   "cell_type": "code",
   "execution_count": 7,
   "metadata": {},
   "outputs": [
    {
     "data": {
      "text/plain": [
       "#'beaker_clojure_shell_8658733a-e891-4471-b1a5-338b8e4cc6a6/abstracts"
      ]
     },
     "execution_count": 7,
     "metadata": {},
     "output_type": "execute_result"
    }
   ],
   "source": [
    "(def annotations (k/model training-dir nil))\n",
    "\n",
    "(def abstracts-f (io/file training-dir \"chemprot_training_abstracts.tsv\"))\n",
    "(rdr/biocreative-read-abstracts (k/model annotations) abstracts-f)\n",
    "\n",
    "(def entities-f (io/file training-dir \"chemprot_training_entities.tsv\"))\n",
    "(rdr/biocreative-read-entities (k/model annotations) entities-f)\n",
    "\n",
    "(def relations-f (io/file training-dir \"chemprot_training_relations.tsv\"))\n",
    "(rdr/biocreative-read-relations (k/model annotations) relations-f)"
   ]
  },
  {
   "cell_type": "code",
   "execution_count": null,
   "metadata": {},
   "outputs": [],
   "source": [
    "(def model1 (k/simple-model annotations))\n",
    "\n",
    "(def structures-annotations-with-embeddings (word2vec/with-word2vec word2vec-db\n",
    "                                              (sentence/structures-annotations-with-embeddings model1)))\n",
    "\n",
    "(def concept-annotations-with-toks (sentence/concept-annotations-with-toks model1))\n",
    "\n",
    "(def model (assoc model1\n",
    "             :concept-annotations concept-annotations-with-toks\n",
    "             :structure-annotations structures-annotations-with-embeddings))\n",
    "\n",
    "(def sentences (sentence/concept-annotations->sentences model))\n",
    "(log/info \"Num sentences:\" (count sentences))"
   ]
  },
  {
   "cell_type": "code",
   "execution_count": null,
   "metadata": {},
   "outputs": [],
   "source": [
    "(def matches (let [property \"INHIBITOR\"\n",
    "\n",
    "                     ;sentences (filter #(<= (count (:context %)) 2) sentences)\n",
    "                     actual-true (set (->> property\n",
    "                                           (k/edges-for-property model)\n",
    "                                           (map evaluation/edge->triple)\n",
    "                                           (filter (fn [t] (some #(= t (:entities %)) sentences)))))\n",
    "                     all-triples (set (map evaluation/sent->triple sentences))\n",
    "\n",
    "                     seeds (clojure.set/union\n",
    "                             (apply evaluation/make-seeds sentences (first actual-true))\n",
    "                             (apply evaluation/make-seeds sentences (second actual-true)))\n",
    "                     seed-thresh 0.85\n",
    "                     context-thresh 0.9\n",
    "                     cluster-thresh 0.95\n",
    "                     min-support 1\n",
    "                     params {:seed             (first seeds)\n",
    "                             :seed-thresh      seed-thresh\n",
    "                             :context-thresh   context-thresh\n",
    "                             :seed-match-fn    #(and (re/concepts-match? %1 %2)\n",
    "                                                     (< seed-thresh (re/context-vector-cosine-sim %1 %2)))\n",
    "                             :context-match-fn #(< context-thresh (re/context-vector-cosine-sim %1 %2))\n",
    "                             :cluster-merge-fn re/add-to-pattern\n",
    "                             :cluster-match-fn #(let [score (re/context-vector-cosine-sim %1 %2)]\n",
    "                                                  (and (< (or %3 cluster-thresh) score)\n",
    "                                                       score))\n",
    "                             :min-support      min-support}\n",
    "                     matches (->> (re/cluster-bootstrap-extract-relations seeds sentences params)\n",
    "                                  (map #(merge % params)))]\n",
    "                 (log/info \"Metrics:\" (math/calc-metrics {:predicted-true (evaluation/predicted-true matches)\n",
    "                                                          :actual-true    actual-true\n",
    "                                                          :all            all-triples}))\n",
    "                 matches))"
   ]
  }
 ],
 "metadata": {
  "kernelspec": {
   "display_name": "Clojure",
   "language": "clojure",
   "name": "clojure"
  },
  "language_info": {
   "codemirror_mode": "Clojure",
   "file_extension": ".clj",
   "mimetype": "text/x-clojure",
   "name": "Clojure",
   "nbconverter_exporter": "",
   "version": "1.9.0"
  },
  "toc": {
   "base_numbering": 1,
   "nav_menu": {},
   "number_sections": false,
   "sideBar": false,
   "skip_h1_title": false,
   "title_cell": "Table of Contents",
   "title_sidebar": "Contents",
   "toc_cell": false,
   "toc_position": {},
   "toc_section_display": false,
   "toc_window_display": false
  }
 },
 "nbformat": 4,
 "nbformat_minor": 2
}
